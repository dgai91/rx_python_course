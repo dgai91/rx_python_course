{
 "cells": [
  {
   "cell_type": "code",
   "execution_count": 1,
   "metadata": {},
   "outputs": [],
   "source": [
    "import datetime as dtm\n",
    "import numpy as np\n",
    "import statsmodels.formula.api as smd\n",
    "import pandas as pd\n",
    "import pandas_datareader.data as pdr\n",
    "from pandas import DataFrame\n",
    "import yfinance\n",
    "import seaborn as sns\n",
    "import matplotlib.pyplot as plt"
   ]
  },
  {
   "cell_type": "markdown",
   "metadata": {},
   "source": [
    "## Download fama french 5 factors and 6 stocks, save these to csv"
   ]
  },
  {
   "cell_type": "code",
   "execution_count": 2,
   "metadata": {},
   "outputs": [],
   "source": [
    "tickers = ['AAPL', 'BABA', 'IBM', 'MSFT', 'GOOGL', 'GME']\n",
    "end = dtm.date(2020, 12, 1)\n",
    "start = dtm.date(2019, 11, 29)\n",
    "ff_factors = pdr.DataReader('F-F_Research_Data_5_Factors_2x3_daily', 'famafrench', start, end)[0]\n",
    "yfinance.pdr_override()\n",
    "all_data = {}\n",
    "for ticker in tickers:\n",
    "    all_data[ticker] = pdr.get_data_yahoo(ticker, start, end)\n",
    "price = DataFrame({tic: all_data[tic]['Adj Close'] for tic in all_data})\n",
    "price.to_csv('../data/all_data.csv')\n",
    "ff_factors.to_csv('../data/ff_factors.csv')"
   ]
  },
  {
   "cell_type": "markdown",
   "metadata": {},
   "source": [
    "## Read the stock data and calculate the difference"
   ]
  },
  {
   "cell_type": "code",
   "execution_count": 3,
   "metadata": {},
   "outputs": [],
   "source": [
    "price = pd.read_csv('../../data/all_data.csv')\n",
    "price.index = [dtm.datetime.strptime(str(x), \"%Y-%m-%d\") for x in price.iloc[:, 0]]\n",
    "price = price.iloc[:, 1:]\n",
    "log_prices = []\n",
    "for ticker in tickers:\n",
    "    log_prices.append(np.log(price[ticker]).diff().dropna())\n",
    "df = pd.concat(log_prices, axis=1).dropna()\n",
    "df.columns = tickers"
   ]
  },
  {
   "cell_type": "markdown",
   "metadata": {},
   "source": [
    "## Read Fama French 5 factors.SMD was used to do the regression of 6 stocks with OLS"
   ]
  },
  {
   "cell_type": "code",
   "execution_count": 4,
   "metadata": {
    "scrolled": false
   },
   "outputs": [
    {
     "name": "stdout",
     "output_type": "stream",
     "text": [
      "                            OLS Regression Results                            \n",
      "==============================================================================\n",
      "Dep. Variable:                   AAPL   R-squared:                       0.829\n",
      "Model:                            OLS   Adj. R-squared:                  0.826\n",
      "Method:                 Least Squares   F-statistic:                     238.6\n",
      "Date:                Tue, 19 Jan 2021   Prob (F-statistic):           3.47e-92\n",
      "Time:                        12:53:20   Log-Likelihood:                 756.26\n",
      "No. Observations:                 252   AIC:                            -1501.\n",
      "Df Residuals:                     246   BIC:                            -1479.\n",
      "Df Model:                           5                                         \n",
      "Covariance Type:            nonrobust                                         \n",
      "==============================================================================\n",
      "                 coef    std err          t      P>|t|      [0.025      0.975]\n",
      "------------------------------------------------------------------------------\n",
      "Intercept      0.0006      0.001      0.792      0.429      -0.001       0.002\n",
      "MKT            1.2682      0.038     33.159      0.000       1.193       1.344\n",
      "SMB           -0.2409      0.101     -2.379      0.018      -0.440      -0.041\n",
      "HML           -0.6862      0.082     -8.379      0.000      -0.847      -0.525\n",
      "RMW            0.7047      0.173      4.072      0.000       0.364       1.046\n",
      "CMA            1.0667      0.215      4.969      0.000       0.644       1.489\n",
      "==============================================================================\n",
      "Omnibus:                       43.201   Durbin-Watson:                   1.856\n",
      "Prob(Omnibus):                  0.000   Jarque-Bera (JB):              220.212\n",
      "Skew:                           0.520   Prob(JB):                     1.52e-48\n",
      "Kurtosis:                       7.460   Cond. No.                         295.\n",
      "==============================================================================\n",
      "\n",
      "Notes:\n",
      "[1] Standard Errors assume that the covariance matrix of the errors is correctly specified.\n"
     ]
    },
    {
     "data": {
      "image/png": "[encoded data removed]",
      "text/plain": [
       "<Figure size 432x288 with 2 Axes>"
      ]
     },
     "metadata": {
      "needs_background": "light"
     },
     "output_type": "display_data"
    },
    {
     "name": "stdout",
     "output_type": "stream",
     "text": [
      "                            OLS Regression Results                            \n",
      "==============================================================================\n",
      "Dep. Variable:                   BABA   R-squared:                       0.386\n",
      "Model:                            OLS   Adj. R-squared:                  0.373\n",
      "Method:                 Least Squares   F-statistic:                     30.88\n",
      "Date:                Tue, 19 Jan 2021   Prob (F-statistic):           2.43e-24\n",
      "Time:                        12:53:20   Log-Likelihood:                 642.06\n",
      "No. Observations:                 252   AIC:                            -1272.\n",
      "Df Residuals:                     246   BIC:                            -1251.\n",
      "Df Model:                           5                                         \n",
      "Covariance Type:            nonrobust                                         \n",
      "==============================================================================\n",
      "                 coef    std err          t      P>|t|      [0.025      0.975]\n",
      "------------------------------------------------------------------------------\n",
      "Intercept   4.701e-05      0.001      0.039      0.969      -0.002       0.002\n",
      "MKT            0.6583      0.060     10.941      0.000       0.540       0.777\n",
      "SMB           -0.2675      0.159     -1.679      0.094      -0.581       0.046\n",
      "HML           -0.1078      0.129     -0.837      0.404      -0.362       0.146\n",
      "RMW            0.4563      0.272      1.676      0.095      -0.080       0.993\n",
      "CMA           -0.9040      0.338     -2.677      0.008      -1.569      -0.239\n",
      "==============================================================================\n",
      "Omnibus:                       30.454   Durbin-Watson:                   2.015\n",
      "Prob(Omnibus):                  0.000   Jarque-Bera (JB):              152.872\n",
      "Skew:                          -0.223   Prob(JB):                     6.37e-34\n",
      "Kurtosis:                       6.789   Cond. No.                         295.\n",
      "==============================================================================\n",
      "\n",
      "Notes:\n",
      "[1] Standard Errors assume that the covariance matrix of the errors is correctly specified.\n"
     ]
    },
    {
     "data": {
      "image/png": "[encoded data removed]",
      "text/plain": [
       "<Figure size 432x288 with 2 Axes>"
      ]
     },
     "metadata": {
      "needs_background": "light"
     },
     "output_type": "display_data"
    },
    {
     "name": "stdout",
     "output_type": "stream",
     "text": [
      "                            OLS Regression Results                            \n",
      "==============================================================================\n",
      "Dep. Variable:                    IBM   R-squared:                       0.734\n",
      "Model:                            OLS   Adj. R-squared:                  0.728\n",
      "Method:                 Least Squares   F-statistic:                     135.5\n",
      "Date:                Tue, 19 Jan 2021   Prob (F-statistic):           1.43e-68\n",
      "Time:                        12:53:20   Log-Likelihood:                 731.38\n",
      "No. Observations:                 252   AIC:                            -1451.\n",
      "Df Residuals:                     246   BIC:                            -1430.\n",
      "Df Model:                           5                                         \n",
      "Covariance Type:            nonrobust                                         \n",
      "==============================================================================\n",
      "                 coef    std err          t      P>|t|      [0.025      0.975]\n",
      "------------------------------------------------------------------------------\n",
      "Intercept     -0.0007      0.001     -0.826      0.409      -0.002       0.001\n",
      "MKT            0.9495      0.042     22.491      0.000       0.866       1.033\n",
      "SMB            0.0950      0.112      0.851      0.396      -0.125       0.315\n",
      "HML            0.1429      0.090      1.581      0.115      -0.035       0.321\n",
      "RMW            0.0525      0.191      0.275      0.784      -0.324       0.429\n",
      "CMA            0.6734      0.237      2.842      0.005       0.207       1.140\n",
      "==============================================================================\n",
      "Omnibus:                       48.420   Durbin-Watson:                   2.008\n",
      "Prob(Omnibus):                  0.000   Jarque-Bera (JB):              619.464\n",
      "Skew:                           0.085   Prob(JB):                    3.06e-135\n",
      "Kurtosis:                      10.679   Cond. No.                         295.\n",
      "==============================================================================\n",
      "\n",
      "Notes:\n",
      "[1] Standard Errors assume that the covariance matrix of the errors is correctly specified.\n"
     ]
    },
    {
     "data": {
      "image/png": "[encoded data removed]",
      "text/plain": [
       "<Figure size 432x288 with 2 Axes>"
      ]
     },
     "metadata": {
      "needs_background": "light"
     },
     "output_type": "display_data"
    },
    {
     "name": "stdout",
     "output_type": "stream",
     "text": [
      "                            OLS Regression Results                            \n",
      "==============================================================================\n",
      "Dep. Variable:                   MSFT   R-squared:                       0.895\n",
      "Model:                            OLS   Adj. R-squared:                  0.893\n",
      "Method:                 Least Squares   F-statistic:                     420.8\n",
      "Date:                Tue, 19 Jan 2021   Prob (F-statistic):          2.47e-118\n",
      "Time:                        12:53:21   Log-Likelihood:                 831.30\n",
      "No. Observations:                 252   AIC:                            -1651.\n",
      "Df Residuals:                     246   BIC:                            -1629.\n",
      "Df Model:                           5                                         \n",
      "Covariance Type:            nonrobust                                         \n",
      "==============================================================================\n",
      "                 coef    std err          t      P>|t|      [0.025      0.975]\n",
      "------------------------------------------------------------------------------\n",
      "Intercept     -0.0004      0.001     -0.778      0.437      -0.002       0.001\n",
      "MKT            1.2321      0.028     43.387      0.000       1.176       1.288\n",
      "SMB           -0.2986      0.075     -3.973      0.000      -0.447      -0.151\n",
      "HML           -0.4139      0.061     -6.807      0.000      -0.534      -0.294\n",
      "RMW            0.2346      0.128      1.826      0.069      -0.019       0.488\n",
      "CMA           -0.4807      0.159     -3.016      0.003      -0.795      -0.167\n",
      "==============================================================================\n",
      "Omnibus:                       37.570   Durbin-Watson:                   2.142\n",
      "Prob(Omnibus):                  0.000   Jarque-Bera (JB):              110.814\n",
      "Skew:                           0.619   Prob(JB):                     8.65e-25\n",
      "Kurtosis:                       6.003   Cond. No.                         295.\n",
      "==============================================================================\n",
      "\n",
      "Notes:\n",
      "[1] Standard Errors assume that the covariance matrix of the errors is correctly specified.\n"
     ]
    },
    {
     "data": {
      "image/png": "[encoded data removed]",
      "text/plain": [
       "<Figure size 432x288 with 2 Axes>"
      ]
     },
     "metadata": {
      "needs_background": "light"
     },
     "output_type": "display_data"
    },
    {
     "name": "stdout",
     "output_type": "stream",
     "text": [
      "                            OLS Regression Results                            \n",
      "==============================================================================\n",
      "Dep. Variable:                  GOOGL   R-squared:                       0.820\n",
      "Model:                            OLS   Adj. R-squared:                  0.816\n",
      "Method:                 Least Squares   F-statistic:                     223.5\n",
      "Date:                Tue, 19 Jan 2021   Prob (F-statistic):           2.58e-89\n",
      "Time:                        12:53:21   Log-Likelihood:                 796.01\n",
      "No. Observations:                 252   AIC:                            -1580.\n",
      "Df Residuals:                     246   BIC:                            -1559.\n",
      "Df Model:                           5                                         \n",
      "Covariance Type:            nonrobust                                         \n",
      "==============================================================================\n",
      "                 coef    std err          t      P>|t|      [0.025      0.975]\n",
      "------------------------------------------------------------------------------\n",
      "Intercept     -0.0004      0.001     -0.589      0.557      -0.002       0.001\n",
      "MKT            0.9681      0.033     29.638      0.000       0.904       1.032\n",
      "SMB           -0.1180      0.086     -1.365      0.174      -0.288       0.052\n",
      "HML           -0.1962      0.070     -2.805      0.005      -0.334      -0.058\n",
      "RMW            0.7299      0.148      4.939      0.000       0.439       1.021\n",
      "CMA           -1.2284      0.183     -6.700      0.000      -1.589      -0.867\n",
      "==============================================================================\n",
      "Omnibus:                       42.791   Durbin-Watson:                   2.032\n",
      "Prob(Omnibus):                  0.000   Jarque-Bera (JB):              326.477\n",
      "Skew:                           0.323   Prob(JB):                     1.28e-71\n",
      "Kurtosis:                       8.539   Cond. No.                         295.\n",
      "==============================================================================\n",
      "\n",
      "Notes:\n",
      "[1] Standard Errors assume that the covariance matrix of the errors is correctly specified.\n"
     ]
    },
    {
     "data": {
      "image/png": "[encoded data removed]",
      "text/plain": [
       "<Figure size 432x288 with 2 Axes>"
      ]
     },
     "metadata": {
      "needs_background": "light"
     },
     "output_type": "display_data"
    },
    {
     "name": "stdout",
     "output_type": "stream",
     "text": [
      "                            OLS Regression Results                            \n",
      "==============================================================================\n",
      "Dep. Variable:                    GME   R-squared:                       0.159\n",
      "Model:                            OLS   Adj. R-squared:                  0.142\n",
      "Method:                 Least Squares   F-statistic:                     9.319\n",
      "Date:                Tue, 19 Jan 2021   Prob (F-statistic):           3.83e-08\n",
      "Time:                        12:53:21   Log-Likelihood:                 337.88\n",
      "No. Observations:                 252   AIC:                            -663.8\n",
      "Df Residuals:                     246   BIC:                            -642.6\n",
      "Df Model:                           5                                         \n",
      "Covariance Type:            nonrobust                                         \n",
      "==============================================================================\n",
      "                 coef    std err          t      P>|t|      [0.025      0.975]\n",
      "------------------------------------------------------------------------------\n",
      "Intercept      0.0031      0.004      0.771      0.441      -0.005       0.011\n",
      "MKT            1.0536      0.201      5.237      0.000       0.657       1.450\n",
      "SMB            0.8523      0.533      1.600      0.111      -0.197       1.901\n",
      "HML            0.2682      0.431      0.623      0.534      -0.580       1.117\n",
      "RMW           -1.0480      0.910     -1.151      0.251      -2.841       0.745\n",
      "CMA            0.5447      1.129      0.482      0.630      -1.679       2.769\n",
      "==============================================================================\n",
      "Omnibus:                       70.259   Durbin-Watson:                   1.955\n",
      "Prob(Omnibus):                  0.000   Jarque-Bera (JB):              292.933\n",
      "Skew:                           1.072   Prob(JB):                     2.46e-64\n",
      "Kurtosis:                       7.827   Cond. No.                         295.\n",
      "==============================================================================\n",
      "\n",
      "Notes:\n",
      "[1] Standard Errors assume that the covariance matrix of the errors is correctly specified.\n"
     ]
    },
    {
     "data": {
      "image/png": "[encoded data removed]",
      "text/plain": [
       "<Figure size 432x288 with 2 Axes>"
      ]
     },
     "metadata": {
      "needs_background": "light"
     },
     "output_type": "display_data"
    }
   ],
   "source": [
    "ff_factors = pd.read_csv('../../data/ff_factors.csv')\n",
    "ff_factors.index = [dtm.datetime.strptime(str(x), \"%Y-%m-%d\") for x in ff_factors.iloc[:, 0]]\n",
    "ff_factors = ff_factors.iloc[:, 1:]\n",
    "ff_factors = ff_factors.rename(columns={'Mkt-RF': 'MKT'})\n",
    "ff_factors = ff_factors.apply(lambda x: x / 100)\n",
    "for idx, log_price in enumerate(log_prices):\n",
    "    ff_price = pd.concat([ff_factors, log_price], axis=1)\n",
    "    ff_model = smd.ols(formula=tickers[idx] + '~MKT+SMB+HML+RMW+CMA', data=ff_price).fit()\n",
    "    print(ff_model.summary())\n",
    "    sns.heatmap(ff_price.corr(), cmap='bwr')\n",
    "    plt.show()\n"
   ]
  },
  {
   "cell_type": "code",
   "execution_count": null,
   "metadata": {},
   "outputs": [],
   "source": []
  }
 ],
 "metadata": {
  "kernelspec": {
   "display_name": "Python 3",
   "language": "python",
   "name": "python3"
  },
  "language_info": {
   "codemirror_mode": {
    "name": "ipython",
    "version": 3
   },
   "file_extension": ".py",
   "mimetype": "text/x-python",
   "name": "python",
   "nbconvert_exporter": "python",
   "pygments_lexer": "ipython3",
   "version": "3.7.6"
  }
 },
 "nbformat": 4,
 "nbformat_minor": 4
}
